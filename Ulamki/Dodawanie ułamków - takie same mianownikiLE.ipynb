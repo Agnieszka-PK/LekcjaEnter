{
 "cells": [
  {
   "cell_type": "markdown",
   "id": "72da88d0",
   "metadata": {},
   "source": [
    "# Dodawanie ułamków - takie same mianowniki"
   ]
  },
  {
   "cell_type": "markdown",
   "id": "6ce3cefd",
   "metadata": {},
   "source": [
    "## Wprowadzenie pierwszego ułamka"
   ]
  },
  {
   "cell_type": "code",
   "execution_count": 7,
   "id": "8b449697",
   "metadata": {
    "scrolled": true
   },
   "outputs": [
    {
     "name": "stdout",
     "output_type": "stream",
     "text": [
      "Podaj licznik pierwszego ułamka:2\n",
      "Podaj mianownik pierwszego ułamka:31\n"
     ]
    }
   ],
   "source": [
    "licznik1 = int(input(\"Podaj licznik pierwszego ułamka:\"))\n",
    "mianownik1 = int(input(\"Podaj mianownik pierwszego ułamka:\"))"
   ]
  },
  {
   "cell_type": "markdown",
   "id": "7ee6ba51",
   "metadata": {},
   "source": [
    "## Wyświetlenie pierwszego ułamka"
   ]
  },
  {
   "cell_type": "code",
   "execution_count": 8,
   "id": "075030da",
   "metadata": {
    "scrolled": true
   },
   "outputs": [
    {
     "name": "stdout",
     "output_type": "stream",
     "text": [
      "Pierwszy ułamek:\n",
      "2\n",
      "--\n",
      "31\n"
     ]
    }
   ],
   "source": [
    "print(\"Pierwszy ułamek:\")\n",
    "print(licznik1)\n",
    "print(\"--\")\n",
    "print(mianownik1)"
   ]
  },
  {
   "cell_type": "markdown",
   "id": "b719b94a",
   "metadata": {},
   "source": [
    "## Wprowadzenie drugiego ułamka"
   ]
  },
  {
   "cell_type": "code",
   "execution_count": 9,
   "id": "8f203bd8",
   "metadata": {},
   "outputs": [
    {
     "name": "stdout",
     "output_type": "stream",
     "text": [
      "Podaj licznik drugiego ułamka:5\n"
     ]
    }
   ],
   "source": [
    "licznik2 = int(input(\"Podaj licznik drugiego ułamka:\"))\n",
    "mianownik2 = mianownik1"
   ]
  },
  {
   "cell_type": "markdown",
   "id": "9abc3a9c",
   "metadata": {},
   "source": [
    "##  Wyświetlenie drugiego ułamka"
   ]
  },
  {
   "cell_type": "code",
   "execution_count": 10,
   "id": "6cd0fe1c",
   "metadata": {},
   "outputs": [
    {
     "name": "stdout",
     "output_type": "stream",
     "text": [
      "Drugi ułamek:\n",
      "5\n",
      "--\n",
      "31\n"
     ]
    }
   ],
   "source": [
    "print(\"Drugi ułamek:\")\n",
    "print(licznik2)\n",
    "print(\"--\")\n",
    "print(mianownik2)"
   ]
  },
  {
   "cell_type": "markdown",
   "id": "ef303330",
   "metadata": {},
   "source": [
    "## Dodawanie ułamków"
   ]
  },
  {
   "cell_type": "code",
   "execution_count": 13,
   "id": "ce0a0c5b",
   "metadata": {},
   "outputs": [
    {
     "name": "stdout",
     "output_type": "stream",
     "text": [
      "Dodawanie ułamków \n",
      "2    5    2  +  5    7\n",
      "-- + -- = ------- = ---\n",
      "31   31     31      31\n"
     ]
    }
   ],
   "source": [
    "print(\"Dodawanie ułamków \")\n",
    "print(licznik1,\"  \",licznik2,\"  \",licznik1,\" + \",licznik2,\"  \",licznik1+licznik2)\n",
    "print(\"--\",\"+\",\"--\",\"=\",\"-------\",\"=\",\"---\") \n",
    "if (mianownik1>=1 and mianownik2<=9): \n",
    "    print(mianownik1,\"  \",mianownik1,\"     \",mianownik1,\"     \",mianownik1)\n",
    "else:\n",
    "    print(mianownik1,\" \",mianownik1,\"   \",mianownik1,\"    \",mianownik1)   "
   ]
  },
  {
   "cell_type": "markdown",
   "id": "b8dffeda",
   "metadata": {},
   "source": [
    "##  Wyłączanie całości z ułamka"
   ]
  },
  {
   "cell_type": "code",
   "execution_count": 14,
   "id": "deb23ff7",
   "metadata": {},
   "outputs": [
    {
     "name": "stdout",
     "output_type": "stream",
     "text": [
      "Wyłączenie całości z ułamka:\n",
      "7\n",
      "--\n",
      "31\n",
      " to: 0 cale\n",
      "i\n",
      "7\n",
      "--\n",
      "31\n"
     ]
    }
   ],
   "source": [
    "print(\"Wyłączenie całości z ułamka:\")\n",
    "print(licznik1 + licznik2)\n",
    "print(\"--\")\n",
    "print(mianownik1)\n",
    "print(\" to:\",(licznik1+licznik2)//mianownik1,\"cale\")\n",
    "print(\"i\")\n",
    "print((licznik1+licznik2)%mianownik1)\n",
    "print(\"--\")\n",
    "print(mianownik1)"
   ]
  },
  {
   "cell_type": "code",
   "execution_count": null,
   "id": "6e390dd5",
   "metadata": {},
   "outputs": [],
   "source": []
  }
 ],
 "metadata": {
  "kernelspec": {
   "display_name": "Python 3 (ipykernel)",
   "language": "python",
   "name": "python3"
  },
  "language_info": {
   "codemirror_mode": {
    "name": "ipython",
    "version": 3
   },
   "file_extension": ".py",
   "mimetype": "text/x-python",
   "name": "python",
   "nbconvert_exporter": "python",
   "pygments_lexer": "ipython3",
   "version": "3.9.7"
  }
 },
 "nbformat": 4,
 "nbformat_minor": 5
}
