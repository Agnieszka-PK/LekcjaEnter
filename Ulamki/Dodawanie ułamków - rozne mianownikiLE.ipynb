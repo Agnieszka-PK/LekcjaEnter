{
 "cells": [
  {
   "cell_type": "markdown",
   "id": "72da88d0",
   "metadata": {},
   "source": [
    "# Dodawanie ułamków - różne mianowniki"
   ]
  },
  {
   "cell_type": "markdown",
   "id": "6ce3cefd",
   "metadata": {},
   "source": [
    "## Wprowadzenie pierwszego ułamka"
   ]
  },
  {
   "cell_type": "code",
   "execution_count": 1,
   "id": "8b449697",
   "metadata": {
    "scrolled": true
   },
   "outputs": [
    {
     "name": "stdout",
     "output_type": "stream",
     "text": [
      "Podaj licznik pierwszego ułamka:4\n",
      "Podaj mianownik pierwszego ułamka:7\n"
     ]
    }
   ],
   "source": [
    "licznik1 = int(input(\"Podaj licznik pierwszego ułamka:\"))\n",
    "mianownik1 = int(input(\"Podaj mianownik pierwszego ułamka:\"))"
   ]
  },
  {
   "cell_type": "markdown",
   "id": "7ee6ba51",
   "metadata": {},
   "source": [
    "## Odczytanie pierwszego ułamka"
   ]
  },
  {
   "cell_type": "code",
   "execution_count": 2,
   "id": "075030da",
   "metadata": {
    "scrolled": true
   },
   "outputs": [
    {
     "name": "stdout",
     "output_type": "stream",
     "text": [
      "Pierwszy ułamek:\n",
      "4\n",
      "--\n",
      "7\n"
     ]
    }
   ],
   "source": [
    "print(\"Pierwszy ułamek:\")\n",
    "print(licznik1)\n",
    "print(\"--\")\n",
    "print(mianownik1)"
   ]
  },
  {
   "cell_type": "markdown",
   "id": "b719b94a",
   "metadata": {},
   "source": [
    "## Wprowadzenie drugiego ułamka"
   ]
  },
  {
   "cell_type": "code",
   "execution_count": 3,
   "id": "8f203bd8",
   "metadata": {},
   "outputs": [
    {
     "name": "stdout",
     "output_type": "stream",
     "text": [
      "Podaj licznik drugiego ułamka:8\n",
      "Podaj mianownik drugiego ułamka:14\n"
     ]
    }
   ],
   "source": [
    "licznik2 = int(input(\"Podaj licznik drugiego ułamka:\"))\n",
    "mianownik2 = int(input(\"Podaj mianownik drugiego ułamka:\"))"
   ]
  },
  {
   "cell_type": "markdown",
   "id": "9abc3a9c",
   "metadata": {},
   "source": [
    "## Odczytanie drugiego ułamka"
   ]
  },
  {
   "cell_type": "code",
   "execution_count": 4,
   "id": "6cd0fe1c",
   "metadata": {},
   "outputs": [
    {
     "name": "stdout",
     "output_type": "stream",
     "text": [
      "Drugi ułamek:\n",
      "8\n",
      "--\n",
      "14\n"
     ]
    }
   ],
   "source": [
    "print(\"Drugi ułamek:\")\n",
    "print(licznik2)\n",
    "print(\"--\")\n",
    "print(mianownik2)"
   ]
  },
  {
   "cell_type": "markdown",
   "id": "bc7655e3",
   "metadata": {},
   "source": [
    "## Znalezienie NWD dwóch różnych mianowników "
   ]
  },
  {
   "cell_type": "code",
   "execution_count": 5,
   "id": "b52cd5e8",
   "metadata": {},
   "outputs": [],
   "source": [
    "def nwd(a, b):\n",
    "    while a != b:\n",
    "        if a > b:\n",
    "            a = a - b\n",
    "        else:\n",
    "            b = b - a\n",
    "    return a      "
   ]
  },
  {
   "cell_type": "markdown",
   "id": "720c795a",
   "metadata": {},
   "source": [
    "## Znalezienie NWW dla dwóch różnych mianowników, czyli wspólnego mianownika "
   ]
  },
  {
   "cell_type": "code",
   "execution_count": 6,
   "id": "e66ea4f3",
   "metadata": {},
   "outputs": [],
   "source": [
    "def nww(a, b):\n",
    "    return a*b//nwd(a, b)   "
   ]
  },
  {
   "cell_type": "markdown",
   "id": "a71d0a9d",
   "metadata": {},
   "source": [
    "## Wyznaczenie wspólnego mianownika"
   ]
  },
  {
   "cell_type": "code",
   "execution_count": 7,
   "id": "b67e1e42",
   "metadata": {},
   "outputs": [
    {
     "name": "stdout",
     "output_type": "stream",
     "text": [
      "WSPÓLNY MIANOWINIK: 14\n"
     ]
    }
   ],
   "source": [
    "wmian = nww(mianownik1, mianownik2)\n",
    "print(\"WSPÓLNY MIANOWINIK:\", wmian)"
   ]
  },
  {
   "cell_type": "markdown",
   "id": "ef303330",
   "metadata": {},
   "source": [
    "## Dodawanie ułamków"
   ]
  },
  {
   "cell_type": "code",
   "execution_count": 8,
   "id": "ce0a0c5b",
   "metadata": {},
   "outputs": [
    {
     "name": "stdout",
     "output_type": "stream",
     "text": [
      "Dodawanie ułamków \n",
      "4\n",
      "--\n",
      "7\n",
      " + \n",
      "8\n",
      "--\n",
      "14\n",
      " =\n",
      "4 * 2\n",
      "------\n",
      "14\n",
      " + \n",
      "8 * 1\n",
      "------\n",
      "14\n",
      " =\n",
      "8\n",
      "------\n",
      "14\n",
      " + \n",
      "8\n",
      "------\n",
      "14\n",
      " =\n",
      "8 + 8\n",
      "------\n",
      "14\n",
      " =\n",
      "16\n",
      "------\n",
      "14\n"
     ]
    }
   ],
   "source": [
    "print(\"Dodawanie ułamków \")\n",
    "print(licznik1)\n",
    "print(\"--\")\n",
    "print(mianownik1)\n",
    "print(\" + \")\n",
    "print(licznik2)\n",
    "print(\"--\")\n",
    "print(mianownik2)\n",
    "print(\" =\")\n",
    "print(licznik1,\"*\",wmian//mianownik1)\n",
    "print(\"------\")\n",
    "print(wmian)\n",
    "print(\" + \")\n",
    "print(licznik2,\"*\",wmian//mianownik2)\n",
    "print(\"------\")\n",
    "print(wmian)\n",
    "print(\" =\")\n",
    "print(licznik1*(wmian//mianownik1))\n",
    "print(\"------\")\n",
    "print(wmian)\n",
    "print(\" + \")\n",
    "print(licznik2*(wmian//mianownik2))\n",
    "print(\"------\")\n",
    "print(wmian)\n",
    "print(\" =\")\n",
    "print(licznik1*(wmian//mianownik1),\"+\",licznik2*(wmian//mianownik2))\n",
    "print(\"------\")\n",
    "print(wmian)\n",
    "print(\" =\")\n",
    "wlicz = licznik1*(wmian//mianownik1) + licznik2*(wmian//mianownik2) \n",
    "print(wlicz)\n",
    "print(\"------\")\n",
    "print(wmian)"
   ]
  },
  {
   "cell_type": "markdown",
   "id": "b8dffeda",
   "metadata": {},
   "source": [
    "##  Wyłączanie całości z ułamka"
   ]
  },
  {
   "cell_type": "code",
   "execution_count": 9,
   "id": "deb23ff7",
   "metadata": {},
   "outputs": [
    {
     "name": "stdout",
     "output_type": "stream",
     "text": [
      "Wyłączenie całości z ułamka:\n",
      "16\n",
      "--\n",
      "14\n",
      " to: 1 cale\n",
      "i\n",
      "2\n",
      "--\n",
      "14\n"
     ]
    }
   ],
   "source": [
    "print(\"Wyłączenie całości z ułamka:\")\n",
    "print(wlicz)\n",
    "print(\"--\")\n",
    "print(wmian)\n",
    "print(\" to:\",wlicz//wmian,\"cale\")\n",
    "print(\"i\")\n",
    "print(wlicz%wmian)\n",
    "print(\"--\")\n",
    "print(wmian)"
   ]
  },
  {
   "cell_type": "code",
   "execution_count": null,
   "id": "7974f997",
   "metadata": {},
   "outputs": [],
   "source": []
  }
 ],
 "metadata": {
  "kernelspec": {
   "display_name": "Python 3 (ipykernel)",
   "language": "python",
   "name": "python3"
  },
  "language_info": {
   "codemirror_mode": {
    "name": "ipython",
    "version": 3
   },
   "file_extension": ".py",
   "mimetype": "text/x-python",
   "name": "python",
   "nbconvert_exporter": "python",
   "pygments_lexer": "ipython3",
   "version": "3.9.7"
  }
 },
 "nbformat": 4,
 "nbformat_minor": 5
}
