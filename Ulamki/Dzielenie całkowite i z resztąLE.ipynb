{
 "cells": [
  {
   "cell_type": "markdown",
   "id": "7e0ffa8c",
   "metadata": {},
   "source": [
    "# Dzielenie całkowite i dzielenie z resztą"
   ]
  },
  {
   "cell_type": "markdown",
   "id": "149eb658",
   "metadata": {},
   "source": [
    "## Przykład dla dzielenia 9 przez 5"
   ]
  },
  {
   "cell_type": "code",
   "execution_count": null,
   "id": "7e75bf96",
   "metadata": {},
   "outputs": [],
   "source": [
    "print(\"Reszta z dzielenia 9 przez 5 to:\",9%5)"
   ]
  },
  {
   "cell_type": "code",
   "execution_count": null,
   "id": "3e221228",
   "metadata": {
    "scrolled": true
   },
   "outputs": [],
   "source": [
    "print(\"Część całkowita dzielenia 9 przez 5 to:\",9//5)"
   ]
  },
  {
   "cell_type": "code",
   "execution_count": null,
   "id": "b7090312",
   "metadata": {},
   "outputs": [],
   "source": [
    "print(\"Część całkowita dzielenia 9 przez 5 to:\",9//5)\n",
    "print(\"Reszta z dzielenia 9 przez 5 to:\",9%5)\n",
    "print(\"Sprawdzenie:\",9//5,\"*5+\",9%5,\"=\",9//5*5+9%5)"
   ]
  },
  {
   "cell_type": "markdown",
   "id": "98e0f44d",
   "metadata": {},
   "source": [
    "## Przykład z wprowadzaniem dwóch liczb"
   ]
  },
  {
   "cell_type": "code",
   "execution_count": null,
   "id": "a135a39e",
   "metadata": {},
   "outputs": [],
   "source": [
    "liczba1 = int(input(\"Podaj pierwszą liczbę:\"))\n",
    "liczba2 = int(input(\"Podaj drugą liczbę:\"))"
   ]
  },
  {
   "cell_type": "code",
   "execution_count": null,
   "id": "f5ff7153",
   "metadata": {},
   "outputs": [],
   "source": [
    "print(\"Część całkowita dzielenia \", liczba1,\" przez\", liczba2,\" to:\",liczba1//liczba2)\n",
    "print(\"Reszta z dzielenia\", liczba1 ,\"przez \",liczba2 ,\" to:\",liczba1%liczba2)\n",
    "print(\"Sprawdzenie:\",liczba1//liczba2,\"*\",liczba2,\"+\",liczba1%liczba2,\"=\",liczba1//liczba2*liczba2+liczba1%liczba2)"
   ]
  },
  {
   "cell_type": "markdown",
   "id": "9ac4ae6f",
   "metadata": {},
   "source": [
    "#  Wyłączanie całości z ułamka"
   ]
  },
  {
   "cell_type": "code",
   "execution_count": null,
   "id": "124e8d14",
   "metadata": {},
   "outputs": [],
   "source": [
    "# Wprowadzenie ułamka"
   ]
  },
  {
   "cell_type": "code",
   "execution_count": null,
   "id": "36d1395b",
   "metadata": {},
   "outputs": [],
   "source": [
    "licznik = int(input(\"Podaj licznik ułamka:\"))\n",
    "mianownik = int(input(\"Podaj mianownik ułamka:\"))"
   ]
  },
  {
   "cell_type": "code",
   "execution_count": null,
   "id": "b4bfdf5a",
   "metadata": {},
   "outputs": [],
   "source": [
    "# Odczytanie ułamka"
   ]
  },
  {
   "cell_type": "code",
   "execution_count": null,
   "id": "6b453330",
   "metadata": {},
   "outputs": [],
   "source": [
    "print(\"Podany ułamek:\")\n",
    "print(licznik)\n",
    "print(\"--\")\n",
    "print(mianownik)"
   ]
  },
  {
   "cell_type": "code",
   "execution_count": null,
   "id": "66cb8f17",
   "metadata": {},
   "outputs": [],
   "source": [
    "print(\"Wyłączenie całości z ułamka:\")\n",
    "print(licznik)\n",
    "print(\"--\")\n",
    "print(mianownik)\n",
    "print(\" to:\",licznik//mianownik,\"cale\")\n",
    "print(\"i\")\n",
    "print(licznik%mianownik)\n",
    "print(\"--\")\n",
    "print(mianownik)"
   ]
  },
  {
   "cell_type": "code",
   "execution_count": null,
   "id": "b14f054a",
   "metadata": {},
   "outputs": [],
   "source": [
    "# Sprawdzenie"
   ]
  },
  {
   "cell_type": "code",
   "execution_count": null,
   "id": "16529ced",
   "metadata": {},
   "outputs": [],
   "source": [
    "print(\"Sprawdzenie:\",licznik//mianownik,\"*\",mianownik,\"+\",licznik%mianownik,\"=\",licznik//mianownik*mianownik+licznik%mianownik)"
   ]
  }
 ],
 "metadata": {
  "kernelspec": {
   "display_name": "Python 3 (ipykernel)",
   "language": "python",
   "name": "python3"
  },
  "language_info": {
   "codemirror_mode": {
    "name": "ipython",
    "version": 3
   },
   "file_extension": ".py",
   "mimetype": "text/x-python",
   "name": "python",
   "nbconvert_exporter": "python",
   "pygments_lexer": "ipython3",
   "version": "3.9.7"
  }
 },
 "nbformat": 4,
 "nbformat_minor": 5
}
