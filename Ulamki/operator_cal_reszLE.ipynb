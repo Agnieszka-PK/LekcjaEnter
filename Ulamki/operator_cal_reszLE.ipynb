{
 "cells": [
  {
   "cell_type": "markdown",
   "id": "f64ef3ba",
   "metadata": {},
   "source": [
    "# Programowanie w języku Python"
   ]
  },
  {
   "cell_type": "markdown",
   "id": "82d35029",
   "metadata": {},
   "source": [
    "# Dzielenie całkowite i dzielenie z resztą"
   ]
  },
  {
   "cell_type": "markdown",
   "id": "89184049",
   "metadata": {},
   "source": [
    "## Dzielenie całkowite - operator w Python to //"
   ]
  },
  {
   "cell_type": "markdown",
   "id": "880adc7f",
   "metadata": {},
   "source": [
    "## Ile razy 7 mieści się w 15?"
   ]
  },
  {
   "cell_type": "code",
   "execution_count": null,
   "id": "2c1102df",
   "metadata": {
    "scrolled": true
   },
   "outputs": [],
   "source": [
    "15//7"
   ]
  },
  {
   "cell_type": "markdown",
   "id": "2c947b1b",
   "metadata": {},
   "source": [
    "## Reszta z dzielenia - operator w Python to %"
   ]
  },
  {
   "cell_type": "markdown",
   "id": "1a8974ef",
   "metadata": {},
   "source": [
    "## Jaka jest reszta z dzielenia 15 przez 7?"
   ]
  },
  {
   "cell_type": "code",
   "execution_count": null,
   "id": "e64c2a77",
   "metadata": {
    "scrolled": true
   },
   "outputs": [],
   "source": [
    "15%7"
   ]
  },
  {
   "cell_type": "markdown",
   "id": "556ff5c7-7e11-4bf8-abdc-3e129218faea",
   "metadata": {},
   "source": [
    "## Sprawdzenie"
   ]
  },
  {
   "cell_type": "code",
   "execution_count": null,
   "id": "30f90ffe-ebad-4dc1-af8f-873f49cea862",
   "metadata": {},
   "outputs": [],
   "source": [
    "(15//7)*7 + 15%7"
   ]
  },
  {
   "cell_type": "markdown",
   "id": "271ab5c9-3037-4cd9-b684-d2a548e63b04",
   "metadata": {},
   "source": [
    "## Ile razy 5 mieści się w 19?"
   ]
  },
  {
   "cell_type": "code",
   "execution_count": null,
   "id": "ae65ce14-1421-4789-beb6-dff6ca940cfa",
   "metadata": {},
   "outputs": [],
   "source": [
    "19//5"
   ]
  },
  {
   "cell_type": "markdown",
   "id": "aa708bb5-62d3-440e-a7d9-0156fcc9b70e",
   "metadata": {},
   "source": [
    "## Jaka jest reszta z dzielenia 19 przez 5?"
   ]
  },
  {
   "cell_type": "code",
   "execution_count": null,
   "id": "11565938-e214-4bf6-8c5b-ee5401c311f3",
   "metadata": {},
   "outputs": [],
   "source": [
    "19%5"
   ]
  },
  {
   "cell_type": "markdown",
   "id": "8e9650e5-7315-4651-a595-6c2dff03f19f",
   "metadata": {},
   "source": [
    "## Sprawdzenie"
   ]
  },
  {
   "cell_type": "code",
   "execution_count": null,
   "id": "6c24a48e-b821-4809-9fbf-e4afa4ea1d61",
   "metadata": {
    "tags": []
   },
   "outputs": [],
   "source": [
    "(19//5)*5 + 19%5"
   ]
  }
 ],
 "metadata": {
  "kernelspec": {
   "display_name": "Python 3 (ipykernel)",
   "language": "python",
   "name": "python3"
  },
  "language_info": {
   "codemirror_mode": {
    "name": "ipython",
    "version": 3
   },
   "file_extension": ".py",
   "mimetype": "text/x-python",
   "name": "python",
   "nbconvert_exporter": "python",
   "pygments_lexer": "ipython3",
   "version": "3.9.7"
  }
 },
 "nbformat": 4,
 "nbformat_minor": 5
}
