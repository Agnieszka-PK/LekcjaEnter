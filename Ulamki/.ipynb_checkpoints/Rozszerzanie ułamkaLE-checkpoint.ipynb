{
 "cells": [
  {
   "cell_type": "markdown",
   "id": "72da88d0",
   "metadata": {},
   "source": [
    "# Rozszerzanie ułamka"
   ]
  },
  {
   "cell_type": "markdown",
   "id": "3615cfcf",
   "metadata": {},
   "source": [
    "<img src=\"ul.png\" align=\"left\" >"
   ]
  },
  {
   "cell_type": "markdown",
   "id": "6ce3cefd",
   "metadata": {},
   "source": [
    "## Wprowadzenie ułamka"
   ]
  },
  {
   "cell_type": "code",
   "execution_count": null,
   "id": "8b449697",
   "metadata": {},
   "outputs": [],
   "source": [
    "licznik = int(input(\"Podaj licznik ułamka:\"))\n",
    "mianownik = int(input(\"Podaj mianownik ułamka:\"))"
   ]
  },
  {
   "cell_type": "markdown",
   "id": "7ee6ba51",
   "metadata": {},
   "source": [
    "## Wyświetlenie ułamka"
   ]
  },
  {
   "cell_type": "code",
   "execution_count": null,
   "id": "075030da",
   "metadata": {},
   "outputs": [],
   "source": [
    "print(\"Podany ułamek:\")\n",
    "print(licznik)\n",
    "print(\"--\")\n",
    "print(mianownik)"
   ]
  },
  {
   "cell_type": "markdown",
   "id": "ef303330",
   "metadata": {},
   "source": [
    "## Podaj liczbę przez którą rozszerzysz ułamek"
   ]
  },
  {
   "cell_type": "code",
   "execution_count": null,
   "id": "167901b2",
   "metadata": {},
   "outputs": [],
   "source": [
    "liczba = int(input(\"liczba:\"))"
   ]
  },
  {
   "cell_type": "code",
   "execution_count": null,
   "id": "ce0a0c5b",
   "metadata": {},
   "outputs": [],
   "source": [
    "print(\"Rozszerzenie ułamka przez liczbę \",liczba)\n",
    "print(licznik)\n",
    "print(\"--\")\n",
    "print(mianownik)\n",
    "print(\" =\")\n",
    "print(licznik,\"*\",liczba)\n",
    "print(\"------\")\n",
    "print(mianownik,\"*\",liczba)\n",
    "print(\" =\")\n",
    "print(licznik*liczba)\n",
    "print(\"--\")\n",
    "print(mianownik*liczba)"
   ]
  },
  {
   "cell_type": "code",
   "execution_count": null,
   "id": "46414994",
   "metadata": {},
   "outputs": [],
   "source": []
  }
 ],
 "metadata": {
  "kernelspec": {
   "display_name": "Python 3 (ipykernel)",
   "language": "python",
   "name": "python3"
  },
  "language_info": {
   "codemirror_mode": {
    "name": "ipython",
    "version": 3
   },
   "file_extension": ".py",
   "mimetype": "text/x-python",
   "name": "python",
   "nbconvert_exporter": "python",
   "pygments_lexer": "ipython3",
   "version": "3.9.7"
  }
 },
 "nbformat": 4,
 "nbformat_minor": 5
}
