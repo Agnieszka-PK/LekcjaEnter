{
 "cells": [
  {
   "cell_type": "markdown",
   "id": "72da88d0",
   "metadata": {},
   "source": [
    "# Dodawanie ułamków - takie same mianowniki"
   ]
  },
  {
   "cell_type": "markdown",
   "id": "6ce3cefd",
   "metadata": {},
   "source": [
    "## Wprowadzenie pierwszego ułamka"
   ]
  },
  {
   "cell_type": "code",
   "execution_count": null,
   "id": "8b449697",
   "metadata": {
    "scrolled": true
   },
   "outputs": [],
   "source": [
    "licznik1 = int(input(\"Podaj licznik pierwszego ułamka:\"))\n",
    "mianownik1 = int(input(\"Podaj mianownik pierwszego ułamka:\"))"
   ]
  },
  {
   "cell_type": "markdown",
   "id": "7ee6ba51",
   "metadata": {},
   "source": [
    "## Odczytanie pierwszego ułamka"
   ]
  },
  {
   "cell_type": "code",
   "execution_count": null,
   "id": "075030da",
   "metadata": {
    "scrolled": true
   },
   "outputs": [],
   "source": [
    "print(\"Pierwszy ułamek:\")\n",
    "print(licznik1)\n",
    "print(\"--\")\n",
    "print(mianownik1)"
   ]
  },
  {
   "cell_type": "markdown",
   "id": "b719b94a",
   "metadata": {},
   "source": [
    "## Wprowadzenie drugiego ułamka"
   ]
  },
  {
   "cell_type": "code",
   "execution_count": null,
   "id": "8f203bd8",
   "metadata": {},
   "outputs": [],
   "source": [
    "licznik2 = int(input(\"Podaj licznik drugiego ułamka:\"))\n",
    "mianownik2 = int(input(\"Podaj mianownik drugiego ułamka:\"))"
   ]
  },
  {
   "cell_type": "markdown",
   "id": "9abc3a9c",
   "metadata": {},
   "source": [
    "## Odczytanie drugiego ułamka"
   ]
  },
  {
   "cell_type": "code",
   "execution_count": null,
   "id": "6cd0fe1c",
   "metadata": {},
   "outputs": [],
   "source": [
    "print(\"Drugi ułamek:\")\n",
    "print(licznik2)\n",
    "print(\"--\")\n",
    "print(mianownik2)"
   ]
  },
  {
   "cell_type": "markdown",
   "id": "ef303330",
   "metadata": {},
   "source": [
    "## Dodawanie ułamków"
   ]
  },
  {
   "cell_type": "code",
   "execution_count": null,
   "id": "ce0a0c5b",
   "metadata": {},
   "outputs": [],
   "source": [
    "print(\"Dodawanie ułamków \")\n",
    "print(licznik1)\n",
    "print(\"--\")\n",
    "print(mianownik1)\n",
    "print(\" + \")\n",
    "print(licznik2)\n",
    "print(\"--\")\n",
    "print(mianownik2)\n",
    "print(\" =\")\n",
    "print(licznik1,\" + \",licznik2)\n",
    "print(\"---------\")\n",
    "print(mianownik1)\n",
    "print(\" =\")\n",
    "print(licznik1 + licznik2)\n",
    "print(\"--\")\n",
    "print(mianownik1)"
   ]
  },
  {
   "cell_type": "markdown",
   "id": "b8dffeda",
   "metadata": {},
   "source": [
    "##  Wyłączanie całości z ułamka"
   ]
  },
  {
   "cell_type": "code",
   "execution_count": null,
   "id": "deb23ff7",
   "metadata": {},
   "outputs": [],
   "source": [
    "print(\"Wyłączenie całości z ułamka:\")\n",
    "print(licznik1 + licznik2)\n",
    "print(\"--\")\n",
    "print(mianownik1)\n",
    "print(\" to:\",(licznik1+licznik2)//mianownik1,\"cale\")\n",
    "print(\"i\")\n",
    "print((licznik1+licznik2)%mianownik1)\n",
    "print(\"--\")\n",
    "print(mianownik1)"
   ]
  }
 ],
 "metadata": {
  "kernelspec": {
   "display_name": "Python 3 (ipykernel)",
   "language": "python",
   "name": "python3"
  },
  "language_info": {
   "codemirror_mode": {
    "name": "ipython",
    "version": 3
   },
   "file_extension": ".py",
   "mimetype": "text/x-python",
   "name": "python",
   "nbconvert_exporter": "python",
   "pygments_lexer": "ipython3",
   "version": "3.9.7"
  }
 },
 "nbformat": 4,
 "nbformat_minor": 5
}
