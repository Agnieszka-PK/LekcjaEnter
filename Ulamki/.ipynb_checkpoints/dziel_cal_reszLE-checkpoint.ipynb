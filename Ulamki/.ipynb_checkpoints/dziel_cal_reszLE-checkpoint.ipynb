{
 "cells": [
  {
   "cell_type": "markdown",
   "id": "65db7392",
   "metadata": {},
   "source": [
    "# Dzielenie całkowite - operator w Python to //"
   ]
  },
  {
   "cell_type": "code",
   "execution_count": null,
   "id": "749531db",
   "metadata": {
    "scrolled": true
   },
   "outputs": [],
   "source": [
    "14//6"
   ]
  },
  {
   "cell_type": "markdown",
   "id": "f01c1b3f",
   "metadata": {},
   "source": [
    "# Reszta z dzielenia - operator w Python to %"
   ]
  },
  {
   "cell_type": "code",
   "execution_count": null,
   "id": "8286bfd1",
   "metadata": {
    "scrolled": true
   },
   "outputs": [],
   "source": [
    "14%6"
   ]
  }
 ],
 "metadata": {
  "kernelspec": {
   "display_name": "Python 3 (ipykernel)",
   "language": "python",
   "name": "python3"
  },
  "language_info": {
   "codemirror_mode": {
    "name": "ipython",
    "version": 3
   },
   "file_extension": ".py",
   "mimetype": "text/x-python",
   "name": "python",
   "nbconvert_exporter": "python",
   "pygments_lexer": "ipython3",
   "version": "3.9.7"
  }
 },
 "nbformat": 4,
 "nbformat_minor": 5
}
