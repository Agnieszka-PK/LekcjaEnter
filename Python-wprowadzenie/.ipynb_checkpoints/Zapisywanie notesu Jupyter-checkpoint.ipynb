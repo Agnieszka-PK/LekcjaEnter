{
 "cells": [
  {
   "cell_type": "markdown",
   "id": "ddc17d27",
   "metadata": {},
   "source": [
    "# To jest notes, który zapiszę na swoim urządzeniu."
   ]
  },
  {
   "cell_type": "markdown",
   "id": "519ba3f6",
   "metadata": {},
   "source": [
    "Podaj dzisiejszą datę. Pamiętaj wpisujesz tekst jako opis w notesie, czyli wybierasz z listy Markdown na prawo od przycisku Run. Jeśli użyjesz z listy Code notes pokaże błąd. "
   ]
  },
  {
   "cell_type": "markdown",
   "id": "428b6c2a",
   "metadata": {},
   "source": [
    "10.02.2022"
   ]
  },
  {
   "cell_type": "code",
   "execution_count": null,
   "id": "a35a637c",
   "metadata": {},
   "outputs": [],
   "source": []
  }
 ],
 "metadata": {
  "kernelspec": {
   "display_name": "Python 3 (ipykernel)",
   "language": "python",
   "name": "python3"
  },
  "language_info": {
   "codemirror_mode": {
    "name": "ipython",
    "version": 3
   },
   "file_extension": ".py",
   "mimetype": "text/x-python",
   "name": "python",
   "nbconvert_exporter": "python",
   "pygments_lexer": "ipython3",
   "version": "3.9.7"
  }
 },
 "nbformat": 4,
 "nbformat_minor": 5
}
