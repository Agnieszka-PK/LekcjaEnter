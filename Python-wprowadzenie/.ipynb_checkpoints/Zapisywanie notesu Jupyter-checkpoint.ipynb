{
 "cells": [
  {
   "cell_type": "markdown",
   "id": "f9d91d3a",
   "metadata": {},
   "source": [
    "# To jest notes, który zapiszesz na swoim urządzeniu."
   ]
  },
  {
   "cell_type": "markdown",
   "id": "dc8fc632",
   "metadata": {},
   "source": [
    "Podaj dzisiejszą datę. Pamiętaj wpisujesz tekst jako opis w notesie, czyli wybierasz z listy Markdown na prawo od przycisku Run. Jeśli użyjesz z listy Code notes pokaże błąd. "
   ]
  },
  {
   "cell_type": "markdown",
   "id": "fb148854",
   "metadata": {},
   "source": [
    "10.02.2022"
   ]
  },
  {
   "cell_type": "markdown",
   "id": "191ec2a1",
   "metadata": {},
   "source": [
    "Nazwę notesu możesz zmienić klikając na napis z prawej strony jupyter powyżej menu"
   ]
  },
  {
   "cell_type": "markdown",
   "id": "63b5f3b3",
   "metadata": {},
   "source": [
    "Aby zapisać notes na swoim urządzeniu wybierz z menu File --> Download as --> Notebook"
   ]
  },
  {
   "cell_type": "markdown",
   "id": "d7f1bf76",
   "metadata": {},
   "source": [
    "Jeśli chcesz utworzyć nowy notes wybierz z menu File --> New --> Python 3"
   ]
  },
  {
   "cell_type": "markdown",
   "id": "a6d9eb9e",
   "metadata": {},
   "source": [
    "Jeśli chcesz otworzyć notes, który masz na swoim urządzeniu wybierz z menu File --> Open --> przycisk Upload"
   ]
  },
  {
   "cell_type": "code",
   "execution_count": null,
   "id": "8baf044d",
   "metadata": {},
   "outputs": [],
   "source": []
  }
 ],
 "metadata": {
  "kernelspec": {
   "display_name": "Python 3 (ipykernel)",
   "language": "python",
   "name": "python3"
  },
  "language_info": {
   "codemirror_mode": {
    "name": "ipython",
    "version": 3
   },
   "file_extension": ".py",
   "mimetype": "text/x-python",
   "name": "python",
   "nbconvert_exporter": "python",
   "pygments_lexer": "ipython3",
   "version": "3.9.7"
  }
 },
 "nbformat": 4,
 "nbformat_minor": 5
}
