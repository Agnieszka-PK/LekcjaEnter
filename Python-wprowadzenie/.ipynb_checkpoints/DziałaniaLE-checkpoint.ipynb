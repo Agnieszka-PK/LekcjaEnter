{
 "cells": [
  {
   "cell_type": "markdown",
   "id": "db6d1a96",
   "metadata": {},
   "source": [
    "# Wprowadzenie do języka Python"
   ]
  },
  {
   "cell_type": "markdown",
   "id": "52f1bf60",
   "metadata": {},
   "source": [
    "# Operatory"
   ]
  },
  {
   "cell_type": "markdown",
   "id": "6c0be22c",
   "metadata": {},
   "source": [
    "dodawanie to +, odejmowanie to -, mnożenie to *, dzielenie to /, dzielenie całkowiete to //, reszta z dzielenia to %"
   ]
  },
  {
   "cell_type": "markdown",
   "id": "1a118da0",
   "metadata": {},
   "source": [
    "Jeśli w komórkę wpisujesz tekst użyj Markdown z lisy na prawo od przycisku Run.\n",
    "Jeśli w komórkę wpisujesz polecenia języka Python użyj Code z lisy na prawo od przycisku Run.\n",
    "Jeśłi chcesz zobaczyć wynik polecenia wciśnij przycisk Run."
   ]
  },
  {
   "cell_type": "markdown",
   "id": "f6c90607",
   "metadata": {},
   "source": [
    "# Przykłady"
   ]
  },
  {
   "cell_type": "markdown",
   "id": "982f0c88",
   "metadata": {},
   "source": [
    "Jaka jest część całkowita z dzielenia 98 przez 11? \n",
    "Podpowiedź: Wystarczy wpisać w komórkę 98//11 i wcisnąć Run(Przycisk play)."
   ]
  },
  {
   "cell_type": "code",
   "execution_count": 7,
   "id": "7bdae3e4",
   "metadata": {},
   "outputs": [
    {
     "data": {
      "text/plain": [
       "8"
      ]
     },
     "execution_count": 7,
     "metadata": {},
     "output_type": "execute_result"
    }
   ],
   "source": [
    "98//11"
   ]
  },
  {
   "cell_type": "markdown",
   "id": "3477488b",
   "metadata": {},
   "source": [
    "Jaka jest reszta z dzielenia 108 przez 23? \n",
    "Podpowiedź: Wystarczy wpisać w komórkę 108%23 i wcisnąć Run(Przycisk play)."
   ]
  },
  {
   "cell_type": "code",
   "execution_count": 8,
   "id": "e6f593f8",
   "metadata": {},
   "outputs": [
    {
     "data": {
      "text/plain": [
       "16"
      ]
     },
     "execution_count": 8,
     "metadata": {},
     "output_type": "execute_result"
    }
   ],
   "source": [
    "108%23"
   ]
  },
  {
   "cell_type": "markdown",
   "id": "c0c18916",
   "metadata": {},
   "source": [
    "Jaka jest druga potęga liczby 13? \n",
    "Podpowiedź: Wystarczy wpisać w komórkę 13*13 i wcisnąć Run(Przycisk play)."
   ]
  },
  {
   "cell_type": "code",
   "execution_count": 10,
   "id": "07cc6fdf",
   "metadata": {},
   "outputs": [
    {
     "data": {
      "text/plain": [
       "169"
      ]
     },
     "execution_count": 10,
     "metadata": {},
     "output_type": "execute_result"
    }
   ],
   "source": [
    "13*13"
   ]
  },
  {
   "cell_type": "markdown",
   "id": "4a0230e4",
   "metadata": {},
   "source": [
    "Wykonaj działanie 138 + 57 - 9*4 + 897/74 - 9%4\n",
    "Podpowiedź: Wystarczy wpisać w komórkę  138 + 57 - 9*4 + 897/74 - 9%4 i wcisnąć Run(Przycisk play)."
   ]
  },
  {
   "cell_type": "code",
   "execution_count": 12,
   "id": "a00d4f32",
   "metadata": {},
   "outputs": [
    {
     "data": {
      "text/plain": [
       "170.1216216216216"
      ]
     },
     "execution_count": 12,
     "metadata": {},
     "output_type": "execute_result"
    }
   ],
   "source": [
    "138 + 57 - 9*4 + 897/74 - 9%4"
   ]
  },
  {
   "cell_type": "markdown",
   "id": "775aed67",
   "metadata": {},
   "source": [
    "# Zadania"
   ]
  },
  {
   "cell_type": "markdown",
   "id": "b93d7deb",
   "metadata": {},
   "source": [
    "Klasę, w której jest 27 osób masz podzielić na grupy 4 osobowe. Ile osób zostanie bez grupy?\n",
    "Podpowiedź: Wystarczy wpisać w komórkę  27%4 i wcisnąć Run(Przycisk play)."
   ]
  },
  {
   "cell_type": "code",
   "execution_count": 15,
   "id": "c40c20ed",
   "metadata": {},
   "outputs": [
    {
     "data": {
      "text/plain": [
       "3"
      ]
     },
     "execution_count": 15,
     "metadata": {},
     "output_type": "execute_result"
    }
   ],
   "source": [
    "27%4"
   ]
  },
  {
   "cell_type": "markdown",
   "id": "e6fe4cf6",
   "metadata": {},
   "source": [
    "Klasę, w której jest 27 osób masz podzielić na grupy 4 osobowe. Ile grup powstanie?\n",
    "Podpowiedź: Wystarczy wpisać w komórkę  27//4 i wcisnąć Run(Przycisk play)."
   ]
  },
  {
   "cell_type": "code",
   "execution_count": 17,
   "id": "9f10db97",
   "metadata": {},
   "outputs": [
    {
     "data": {
      "text/plain": [
       "6"
      ]
     },
     "execution_count": 17,
     "metadata": {},
     "output_type": "execute_result"
    }
   ],
   "source": [
    "27//4"
   ]
  },
  {
   "cell_type": "markdown",
   "id": "cf8f23cf",
   "metadata": {},
   "source": [
    "Wymyśl swoje własne działania."
   ]
  },
  {
   "cell_type": "code",
   "execution_count": null,
   "id": "8cbf9e1b",
   "metadata": {},
   "outputs": [],
   "source": []
  }
 ],
 "metadata": {
  "kernelspec": {
   "display_name": "Python 3 (ipykernel)",
   "language": "python",
   "name": "python3"
  },
  "language_info": {
   "codemirror_mode": {
    "name": "ipython",
    "version": 3
   },
   "file_extension": ".py",
   "mimetype": "text/x-python",
   "name": "python",
   "nbconvert_exporter": "python",
   "pygments_lexer": "ipython3",
   "version": "3.9.7"
  }
 },
 "nbformat": 4,
 "nbformat_minor": 5
}
