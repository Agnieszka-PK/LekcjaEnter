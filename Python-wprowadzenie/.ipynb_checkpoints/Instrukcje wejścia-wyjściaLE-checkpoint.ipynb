{
 "cells": [
  {
   "cell_type": "markdown",
   "id": "d7f2a1fd",
   "metadata": {},
   "source": [
    "# Wyświetlanie tekstów na ekranie w języku Python"
   ]
  },
  {
   "cell_type": "markdown",
   "id": "9da526f9",
   "metadata": {},
   "source": [
    "Funkcja wyjścia, print() języka Python. "
   ]
  },
  {
   "cell_type": "markdown",
   "id": "c7188d0b",
   "metadata": {},
   "source": [
    "W ćwiczeniach pamiętaj o wybraniu z listy Code na prawo od przycisku Run(przycisk Play). "
   ]
  },
  {
   "cell_type": "markdown",
   "id": "f1009e31",
   "metadata": {},
   "source": [
    "<img src=\"img/pnC.png\" align=\"left\" >"
   ]
  },
  {
   "cell_type": "markdown",
   "id": "254cac93",
   "metadata": {},
   "source": [
    "# Przykłady"
   ]
  },
  {
   "cell_type": "markdown",
   "id": "b8aca616",
   "metadata": {},
   "source": [
    "Przy pomocy funkcji print() napisz swój ulubiony kolor."
   ]
  },
  {
   "cell_type": "code",
   "execution_count": 2,
   "id": "150ebd05",
   "metadata": {},
   "outputs": [
    {
     "name": "stdout",
     "output_type": "stream",
     "text": [
      "żółty\n"
     ]
    }
   ],
   "source": [
    "print(\"żółty\")"
   ]
  },
  {
   "cell_type": "markdown",
   "id": "7a83bce4",
   "metadata": {},
   "source": [
    "Przy pomocy funkcji print() napisz czy wolisz naukę zdalną, czy stacjonarną."
   ]
  },
  {
   "cell_type": "code",
   "execution_count": 3,
   "id": "3289c41b",
   "metadata": {},
   "outputs": [
    {
     "name": "stdout",
     "output_type": "stream",
     "text": [
      "stacjonarna\n"
     ]
    }
   ],
   "source": [
    "print(\"stacjonarna\")"
   ]
  },
  {
   "cell_type": "markdown",
   "id": "3cbc177e",
   "metadata": {},
   "source": [
    "Przy pomocy funkcji print() zapytaj, która jest godzina."
   ]
  },
  {
   "cell_type": "code",
   "execution_count": 4,
   "id": "1594b7fe",
   "metadata": {},
   "outputs": [
    {
     "name": "stdout",
     "output_type": "stream",
     "text": [
      "Która godzina?\n"
     ]
    }
   ],
   "source": [
    "print(\"Która godzina?\")"
   ]
  },
  {
   "cell_type": "markdown",
   "id": "8f093eb2",
   "metadata": {},
   "source": [
    "Przy pomocy funkcji print() odpowiedz na pytanie o godzinę."
   ]
  },
  {
   "cell_type": "code",
   "execution_count": 6,
   "id": "8295c220",
   "metadata": {
    "scrolled": true
   },
   "outputs": [
    {
     "name": "stdout",
     "output_type": "stream",
     "text": [
      "Jest 11:30.\n"
     ]
    }
   ],
   "source": [
    "print(\"Jest 11:30.\")"
   ]
  },
  {
   "cell_type": "markdown",
   "id": "31032a44",
   "metadata": {},
   "source": [
    "Funkacja print() może też wyświetlić wynik działania."
   ]
  },
  {
   "cell_type": "code",
   "execution_count": 2,
   "id": "6c026062",
   "metadata": {},
   "outputs": [
    {
     "name": "stdout",
     "output_type": "stream",
     "text": [
      "2356\n"
     ]
    }
   ],
   "source": [
    "print(31*76)"
   ]
  },
  {
   "cell_type": "code",
   "execution_count": 3,
   "id": "78099411",
   "metadata": {},
   "outputs": [
    {
     "name": "stdout",
     "output_type": "stream",
     "text": [
      "14.0\n"
     ]
    }
   ],
   "source": [
    "print(56/4)"
   ]
  },
  {
   "cell_type": "code",
   "execution_count": 4,
   "id": "af94d9d7",
   "metadata": {},
   "outputs": [
    {
     "name": "stdout",
     "output_type": "stream",
     "text": [
      "-864197532\n"
     ]
    }
   ],
   "source": [
    "print(123456789-987654321)"
   ]
  },
  {
   "cell_type": "code",
   "execution_count": 5,
   "id": "a82b15e4",
   "metadata": {},
   "outputs": [
    {
     "name": "stdout",
     "output_type": "stream",
     "text": [
      "100000000000000000000000000000000000000000000000000000000\n"
     ]
    }
   ],
   "source": [
    "print(99999999999999999999999999999999999999999999999999999999+1)"
   ]
  },
  {
   "cell_type": "markdown",
   "id": "48e7db69",
   "metadata": {},
   "source": [
    "Tekst możesz łączyć z wynikiem obliczeń."
   ]
  },
  {
   "cell_type": "code",
   "execution_count": 6,
   "id": "fda0d0e5",
   "metadata": {},
   "outputs": [
    {
     "name": "stdout",
     "output_type": "stream",
     "text": [
      "Wynik działania 8*12= 96\n"
     ]
    }
   ],
   "source": [
    "print(\"Wynik działania 8*12=\",8*12)"
   ]
  },
  {
   "cell_type": "code",
   "execution_count": 10,
   "id": "73439679",
   "metadata": {},
   "outputs": [
    {
     "name": "stdout",
     "output_type": "stream",
     "text": [
      "Sześcianem liczby 17 jest liczba 4913\n"
     ]
    }
   ],
   "source": [
    "print(\"Sześcianem liczby 17 jest liczba\",17*17*17)"
   ]
  },
  {
   "cell_type": "markdown",
   "id": "f7374db2",
   "metadata": {},
   "source": [
    "# Zmienne wprowadzane z klawiatury w języku Python"
   ]
  },
  {
   "cell_type": "markdown",
   "id": "aef83cb6",
   "metadata": {},
   "source": [
    "Funkcja wejścia, intput() języka Python. "
   ]
  },
  {
   "cell_type": "code",
   "execution_count": null,
   "id": "8e47ff2b",
   "metadata": {},
   "outputs": [],
   "source": [
    "dzien = input(\"Podaj jaki jest dzisiaj dzień tygodnia:\")"
   ]
  },
  {
   "cell_type": "markdown",
   "id": "a3ea56b1",
   "metadata": {},
   "source": [
    "Wyświetlenie wartości zmiennej dzien."
   ]
  },
  {
   "cell_type": "code",
   "execution_count": null,
   "id": "fff28787",
   "metadata": {},
   "outputs": [],
   "source": [
    "print(dzien)"
   ]
  },
  {
   "cell_type": "code",
   "execution_count": null,
   "id": "8afca82e",
   "metadata": {},
   "outputs": [],
   "source": []
  }
 ],
 "metadata": {
  "kernelspec": {
   "display_name": "Python 3 (ipykernel)",
   "language": "python",
   "name": "python3"
  },
  "language_info": {
   "codemirror_mode": {
    "name": "ipython",
    "version": 3
   },
   "file_extension": ".py",
   "mimetype": "text/x-python",
   "name": "python",
   "nbconvert_exporter": "python",
   "pygments_lexer": "ipython3",
   "version": "3.9.7"
  }
 },
 "nbformat": 4,
 "nbformat_minor": 5
}
