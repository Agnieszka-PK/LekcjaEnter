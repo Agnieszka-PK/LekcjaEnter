{
 "cells": [
  {
   "cell_type": "markdown",
   "id": "a5fdea3b",
   "metadata": {},
   "source": [
    "# To jest notes, który zapiszesz na swoim urządzeniu."
   ]
  },
  {
   "cell_type": "markdown",
   "id": "919e062d",
   "metadata": {},
   "source": [
    "Podaj dzisiejszą datę. Pamiętaj wpisujesz tekst jako opis w notesie, czyli wybierasz z listy Markdown na prawo od przycisku Run. Jeśli użyjesz z listy Code notes pokaże błąd. "
   ]
  },
  {
   "cell_type": "markdown",
   "id": "5b146918",
   "metadata": {},
   "source": [
    "10.02.2022"
   ]
  },
  {
   "cell_type": "markdown",
   "id": "440aa4c9",
   "metadata": {},
   "source": [
    "Nazwę notesu możesz zmienić klikając na napis z prawej strony jupyter powyżej menu"
   ]
  },
  {
   "cell_type": "markdown",
   "id": "4e564013",
   "metadata": {},
   "source": [
    "Aby zapisać notes na swoim urządzeniu wybierz przycisk Download z pasku narzędzi."
   ]
  },
  {
   "cell_type": "markdown",
   "id": "522ce97c",
   "metadata": {},
   "source": [
    "<img src=\"img/pnD.png\" align=\"left\" >"
   ]
  },
  {
   "cell_type": "markdown",
   "id": "397aec96",
   "metadata": {},
   "source": [
    "Jeśli chcesz utworzyć nowy notes wybierz z menu File --> New --> Python 3"
   ]
  },
  {
   "cell_type": "markdown",
   "id": "82d799e1",
   "metadata": {},
   "source": [
    "Jeśli chcesz otworzyć notes, który masz na swoim urządzeniu wybierz z menu File --> Open --> przycisk Upload"
   ]
  },
  {
   "cell_type": "code",
   "execution_count": null,
   "id": "bf649a62",
   "metadata": {},
   "outputs": [],
   "source": []
  }
 ],
 "metadata": {
  "kernelspec": {
   "display_name": "Python 3 (ipykernel)",
   "language": "python",
   "name": "python3"
  },
  "language_info": {
   "codemirror_mode": {
    "name": "ipython",
    "version": 3
   },
   "file_extension": ".py",
   "mimetype": "text/x-python",
   "name": "python",
   "nbconvert_exporter": "python",
   "pygments_lexer": "ipython3",
   "version": "3.9.7"
  }
 },
 "nbformat": 4,
 "nbformat_minor": 5
}
