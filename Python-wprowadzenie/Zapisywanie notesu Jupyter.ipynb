{
 "cells": [
  {
   "cell_type": "markdown",
   "id": "512cddbd",
   "metadata": {},
   "source": [
    "# To jest notes, który zapiszesz na swoim urządzeniu."
   ]
  },
  {
   "cell_type": "markdown",
   "id": "bf7f57a8",
   "metadata": {},
   "source": [
    "Podaj dzisiejszą datę. Pamiętaj wpisujesz tekst jako opis w notesie, czyli wybierasz z listy Markdown na prawo od przycisku Run. Jeśli użyjesz z listy Code notes pokaże błąd. "
   ]
  },
  {
   "cell_type": "markdown",
   "id": "b62c5a92",
   "metadata": {},
   "source": [
    "10.02.2022"
   ]
  },
  {
   "cell_type": "code",
   "execution_count": null,
   "id": "2d47b99c",
   "metadata": {},
   "outputs": [],
   "source": []
  }
 ],
 "metadata": {
  "kernelspec": {
   "display_name": "Python 3 (ipykernel)",
   "language": "python",
   "name": "python3"
  },
  "language_info": {
   "codemirror_mode": {
    "name": "ipython",
    "version": 3
   },
   "file_extension": ".py",
   "mimetype": "text/x-python",
   "name": "python",
   "nbconvert_exporter": "python",
   "pygments_lexer": "ipython3",
   "version": "3.9.7"
  }
 },
 "nbformat": 4,
 "nbformat_minor": 5
}
