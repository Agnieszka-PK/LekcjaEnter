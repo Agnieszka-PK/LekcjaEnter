{
 "cells": [
  {
   "cell_type": "markdown",
   "id": "487c13bc",
   "metadata": {},
   "source": [
    "# Wprowadzenie do języka Python"
   ]
  },
  {
   "cell_type": "markdown",
   "id": "08cad90b",
   "metadata": {},
   "source": [
    "# Operatory"
   ]
  },
  {
   "cell_type": "markdown",
   "id": "ab61d11d",
   "metadata": {},
   "source": [
    "dodawanie to +, odejmowanie to -, mnożenie to *, dzielenie to /, dzielenie całkowiete to //, reszta z dzielenia to %"
   ]
  },
  {
   "cell_type": "markdown",
   "id": "a3725147",
   "metadata": {},
   "source": [
    "Jeśli w komórkę wpisujesz tekst użyj Markdown z lisy na prawo od przycisku Run.\n",
    "Jeśli w komórkę wpisujesz polecenia języka Python użyj Code z lisy na prawo od przycisku Run.\n",
    "Jeśłi chcesz zobaczyć wynik polecenia wciśnij przycisk Run."
   ]
  },
  {
   "cell_type": "markdown",
   "id": "81afd4b3",
   "metadata": {},
   "source": [
    "# Przykłady"
   ]
  },
  {
   "cell_type": "markdown",
   "id": "74e31f65",
   "metadata": {},
   "source": [
    "Jaka jest część całkowita z dzielenia 98 przez 11? \n",
    "Podpowiedź: Wystarczy wpisać w komórkę 98//11 i wcisnąć Run(Przycisk play)."
   ]
  },
  {
   "cell_type": "code",
   "execution_count": 7,
   "id": "ddb45a1f",
   "metadata": {},
   "outputs": [
    {
     "data": {
      "text/plain": [
       "8"
      ]
     },
     "execution_count": 7,
     "metadata": {},
     "output_type": "execute_result"
    }
   ],
   "source": [
    "98//11"
   ]
  },
  {
   "cell_type": "markdown",
   "id": "d85ea4af",
   "metadata": {},
   "source": [
    "Jaka jest reszta z dzielenia 108 przez 23? \n",
    "Podpowiedź: Wystarczy wpisać w komórkę 108%23 i wcisnąć Run(Przycisk play)."
   ]
  },
  {
   "cell_type": "code",
   "execution_count": 8,
   "id": "3725809f",
   "metadata": {},
   "outputs": [
    {
     "data": {
      "text/plain": [
       "16"
      ]
     },
     "execution_count": 8,
     "metadata": {},
     "output_type": "execute_result"
    }
   ],
   "source": [
    "108%23"
   ]
  },
  {
   "cell_type": "markdown",
   "id": "481f3326",
   "metadata": {},
   "source": [
    "Jaka jest druga potęga liczby 13? \n",
    "Podpowiedź: Wystarczy wpisać w komórkę 13*13 i wcisnąć Run(Przycisk play)."
   ]
  },
  {
   "cell_type": "code",
   "execution_count": 10,
   "id": "fcb6c381",
   "metadata": {},
   "outputs": [
    {
     "data": {
      "text/plain": [
       "169"
      ]
     },
     "execution_count": 10,
     "metadata": {},
     "output_type": "execute_result"
    }
   ],
   "source": [
    "13*13"
   ]
  },
  {
   "cell_type": "markdown",
   "id": "831ea17b",
   "metadata": {},
   "source": [
    "Wykonaj działanie 138 + 57 - 9*4 + 897/74 - 9%4\n",
    "Podpowiedź: Wystarczy wpisać w komórkę  138 + 57 - 9*4 + 897/74 - 9%4 i wcisnąć Run(Przycisk play)."
   ]
  },
  {
   "cell_type": "code",
   "execution_count": 12,
   "id": "b9425152",
   "metadata": {},
   "outputs": [
    {
     "data": {
      "text/plain": [
       "170.1216216216216"
      ]
     },
     "execution_count": 12,
     "metadata": {},
     "output_type": "execute_result"
    }
   ],
   "source": [
    "138 + 57 - 9*4 + 897/74 - 9%4"
   ]
  },
  {
   "cell_type": "markdown",
   "id": "c6d7ccbe",
   "metadata": {},
   "source": [
    "# Zadania"
   ]
  },
  {
   "cell_type": "markdown",
   "id": "9c85af38",
   "metadata": {},
   "source": [
    "Klasę, w której jest 27 osób masz podzielić na grupy 4 osobowe. Ile osób zostanie bez grupy?\n",
    "Podpowiedź: Wystarczy wpisać w komórkę  27%4 i wcisnąć Run(Przycisk play)."
   ]
  },
  {
   "cell_type": "code",
   "execution_count": 15,
   "id": "14efe20b",
   "metadata": {},
   "outputs": [
    {
     "data": {
      "text/plain": [
       "3"
      ]
     },
     "execution_count": 15,
     "metadata": {},
     "output_type": "execute_result"
    }
   ],
   "source": [
    "27%4"
   ]
  },
  {
   "cell_type": "markdown",
   "id": "ec6a0619",
   "metadata": {},
   "source": [
    "Klasę, w której jest 27 osób masz podzielić na grupy 4 osobowe. Ile grup powstanie?\n",
    "Podpowiedź: Wystarczy wpisać w komórkę  27//4 i wcisnąć Run(Przycisk play)."
   ]
  },
  {
   "cell_type": "code",
   "execution_count": 17,
   "id": "339ef89d",
   "metadata": {},
   "outputs": [
    {
     "data": {
      "text/plain": [
       "6"
      ]
     },
     "execution_count": 17,
     "metadata": {},
     "output_type": "execute_result"
    }
   ],
   "source": [
    "27//4"
   ]
  },
  {
   "cell_type": "markdown",
   "id": "6aaa6109",
   "metadata": {},
   "source": [
    "Wymyśl swoje własne działania."
   ]
  },
  {
   "cell_type": "code",
   "execution_count": null,
   "id": "dba2f117",
   "metadata": {},
   "outputs": [],
   "source": []
  }
 ],
 "metadata": {
  "kernelspec": {
   "display_name": "Python 3 (ipykernel)",
   "language": "python",
   "name": "python3"
  },
  "language_info": {
   "codemirror_mode": {
    "name": "ipython",
    "version": 3
   },
   "file_extension": ".py",
   "mimetype": "text/x-python",
   "name": "python",
   "nbconvert_exporter": "python",
   "pygments_lexer": "ipython3",
   "version": "3.9.7"
  }
 },
 "nbformat": 4,
 "nbformat_minor": 5
}
