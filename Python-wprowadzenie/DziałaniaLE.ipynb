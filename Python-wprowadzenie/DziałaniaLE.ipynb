{
 "cells": [
  {
   "cell_type": "markdown",
   "id": "0bfa1068",
   "metadata": {},
   "source": [
    "# Wprowadzenie do języka Python"
   ]
  },
  {
   "cell_type": "markdown",
   "id": "51d68a16",
   "metadata": {},
   "source": [
    "# Operatory"
   ]
  },
  {
   "cell_type": "markdown",
   "id": "f0dec405",
   "metadata": {},
   "source": [
    "dodawanie to +, odejmowanie to -, mnożenie to *, dzielenie to /, dzielenie całkowiete to //, reszta z dzielenia to %"
   ]
  },
  {
   "cell_type": "markdown",
   "id": "c0094c44",
   "metadata": {},
   "source": [
    "Jeśli w komórkę wpisujesz tekst użyj Markdown z lisy na prawo od przycisku Run.\n",
    "Jeśli w komórkę wpisujesz polecenia języka Python użyj Code z lisy na prawo od przycisku Run.\n",
    "Jeśłi chcesz zobaczyć wynik polecenia wciśnij przycisk Run."
   ]
  },
  {
   "cell_type": "markdown",
   "id": "075ed664",
   "metadata": {},
   "source": [
    "# Przykłady"
   ]
  },
  {
   "cell_type": "markdown",
   "id": "b8285b0f",
   "metadata": {},
   "source": [
    "Jaka jest część całkowita z dzielenia 98 przez 11? \n",
    "Podpowiedź: Wystarczy wpisać w komórkę 98//11 i wcisnąć Run(Przycisk play)."
   ]
  },
  {
   "cell_type": "code",
   "execution_count": 7,
   "id": "97bc948a",
   "metadata": {},
   "outputs": [
    {
     "data": {
      "text/plain": [
       "8"
      ]
     },
     "execution_count": 7,
     "metadata": {},
     "output_type": "execute_result"
    }
   ],
   "source": [
    "98//11"
   ]
  },
  {
   "cell_type": "markdown",
   "id": "6f3499f5",
   "metadata": {},
   "source": [
    "Jaka jest reszta z dzielenia 108 przez 23? \n",
    "Podpowiedź: Wystarczy wpisać w komórkę 108%23 i wcisnąć Run(Przycisk play)."
   ]
  },
  {
   "cell_type": "code",
   "execution_count": 8,
   "id": "2c21d852",
   "metadata": {},
   "outputs": [
    {
     "data": {
      "text/plain": [
       "16"
      ]
     },
     "execution_count": 8,
     "metadata": {},
     "output_type": "execute_result"
    }
   ],
   "source": [
    "108%23"
   ]
  },
  {
   "cell_type": "markdown",
   "id": "8372ff4b",
   "metadata": {},
   "source": [
    "Jaka jest druga potęga liczby 13? \n",
    "Podpowiedź: Wystarczy wpisać w komórkę 13*13 i wcisnąć Run(Przycisk play)."
   ]
  },
  {
   "cell_type": "code",
   "execution_count": 10,
   "id": "d9b1fa5f",
   "metadata": {},
   "outputs": [
    {
     "data": {
      "text/plain": [
       "169"
      ]
     },
     "execution_count": 10,
     "metadata": {},
     "output_type": "execute_result"
    }
   ],
   "source": [
    "13*13"
   ]
  },
  {
   "cell_type": "markdown",
   "id": "56ba29ef",
   "metadata": {},
   "source": [
    "Wykonaj działanie 138 + 57 - 9*4 + 897/74 - 9%4\n",
    "Podpowiedź: Wystarczy wpisać w komórkę  138 + 57 - 9*4 + 897/74 - 9%4 i wcisnąć Run(Przycisk play)."
   ]
  },
  {
   "cell_type": "code",
   "execution_count": 12,
   "id": "ed12a9cb",
   "metadata": {},
   "outputs": [
    {
     "data": {
      "text/plain": [
       "170.1216216216216"
      ]
     },
     "execution_count": 12,
     "metadata": {},
     "output_type": "execute_result"
    }
   ],
   "source": [
    "138 + 57 - 9*4 + 897/74 - 9%4"
   ]
  },
  {
   "cell_type": "markdown",
   "id": "f9963b06",
   "metadata": {},
   "source": [
    "# Zadania"
   ]
  },
  {
   "cell_type": "markdown",
   "id": "e30e5062",
   "metadata": {},
   "source": [
    "Klasę, w której jest 27 osób masz podzielić na grupy 4 osobowe. Ile osób zostanie bez grupy?\n",
    "Podpowiedź: Wystarczy wpisać w komórkę  27%4 i wcisnąć Run(Przycisk play)."
   ]
  },
  {
   "cell_type": "code",
   "execution_count": 15,
   "id": "06d70977",
   "metadata": {},
   "outputs": [
    {
     "data": {
      "text/plain": [
       "3"
      ]
     },
     "execution_count": 15,
     "metadata": {},
     "output_type": "execute_result"
    }
   ],
   "source": [
    "27%4"
   ]
  },
  {
   "cell_type": "markdown",
   "id": "f7be99ab",
   "metadata": {},
   "source": [
    "Klasę, w której jest 27 osób masz podzielić na grupy 4 osobowe. Ile grup powstanie?\n",
    "Podpowiedź: Wystarczy wpisać w komórkę  27//4 i wcisnąć Run(Przycisk play)."
   ]
  },
  {
   "cell_type": "code",
   "execution_count": 17,
   "id": "b2dd46f5",
   "metadata": {},
   "outputs": [
    {
     "data": {
      "text/plain": [
       "6"
      ]
     },
     "execution_count": 17,
     "metadata": {},
     "output_type": "execute_result"
    }
   ],
   "source": [
    "27//4"
   ]
  },
  {
   "cell_type": "code",
   "execution_count": null,
   "id": "0b25bcd5",
   "metadata": {},
   "outputs": [],
   "source": []
  }
 ],
 "metadata": {
  "kernelspec": {
   "display_name": "Python 3 (ipykernel)",
   "language": "python",
   "name": "python3"
  },
  "language_info": {
   "codemirror_mode": {
    "name": "ipython",
    "version": 3
   },
   "file_extension": ".py",
   "mimetype": "text/x-python",
   "name": "python",
   "nbconvert_exporter": "python",
   "pygments_lexer": "ipython3",
   "version": "3.9.7"
  }
 },
 "nbformat": 4,
 "nbformat_minor": 5
}
