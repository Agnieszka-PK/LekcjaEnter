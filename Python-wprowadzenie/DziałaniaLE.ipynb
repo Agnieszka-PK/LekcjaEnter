{
 "cells": [
  {
   "cell_type": "markdown",
   "id": "1b3d97ef",
   "metadata": {},
   "source": [
    "# Wprowadzenie do języka Python"
   ]
  },
  {
   "cell_type": "markdown",
   "id": "8486183b",
   "metadata": {},
   "source": [
    "# Operatory"
   ]
  },
  {
   "cell_type": "markdown",
   "id": "dab34649",
   "metadata": {},
   "source": [
    "dodawanie to +, odejmowanie to -, mnożenie to *, dzielenie to /, dzielenie całkowiete to //, reszta z dzielenia to %"
   ]
  },
  {
   "cell_type": "markdown",
   "id": "a5b974fe",
   "metadata": {},
   "source": [
    "Jeśli w komórkę wpisujesz tekst użyj Markdown z lisy na prawo od przycisku Run.\n",
    "Jeśli w komórkę wpisujesz polecenia języka Python użyj Code z lisy na prawo od przycisku Run.\n",
    "Jeśłi chcesz zobaczyć wynik polecenia wciśnij przycisk Run."
   ]
  },
  {
   "cell_type": "markdown",
   "id": "c86f28cd",
   "metadata": {},
   "source": [
    "# Przykłady"
   ]
  },
  {
   "cell_type": "markdown",
   "id": "9ce30e0b",
   "metadata": {},
   "source": [
    "Jaka jest część całkowita z dzielenia 98 przez 11? \n",
    "Podpowiedź: Wystarczy wpisać w komórkę 98//11 i wcisnąć Run(Przycisk play)."
   ]
  },
  {
   "cell_type": "code",
   "execution_count": 7,
   "id": "817ede29",
   "metadata": {},
   "outputs": [
    {
     "data": {
      "text/plain": [
       "8"
      ]
     },
     "execution_count": 7,
     "metadata": {},
     "output_type": "execute_result"
    }
   ],
   "source": [
    "98//11"
   ]
  },
  {
   "cell_type": "markdown",
   "id": "f7f46530",
   "metadata": {},
   "source": [
    "Jaka jest reszta z dzielenia 108 przez 23? \n",
    "Podpowiedź: Wystarczy wpisać w komórkę 108%23 i wcisnąć Run(Przycisk play)."
   ]
  },
  {
   "cell_type": "code",
   "execution_count": 8,
   "id": "a7e9d34f",
   "metadata": {},
   "outputs": [
    {
     "data": {
      "text/plain": [
       "16"
      ]
     },
     "execution_count": 8,
     "metadata": {},
     "output_type": "execute_result"
    }
   ],
   "source": [
    "108%23"
   ]
  },
  {
   "cell_type": "markdown",
   "id": "18ef9ddf",
   "metadata": {},
   "source": [
    "Jaka jest druga potęga liczby 13? \n",
    "Podpowiedź: Wystarczy wpisać w komórkę 13*13 i wcisnąć Run(Przycisk play)."
   ]
  },
  {
   "cell_type": "code",
   "execution_count": 10,
   "id": "8f7f209f",
   "metadata": {},
   "outputs": [
    {
     "data": {
      "text/plain": [
       "169"
      ]
     },
     "execution_count": 10,
     "metadata": {},
     "output_type": "execute_result"
    }
   ],
   "source": [
    "13*13"
   ]
  },
  {
   "cell_type": "markdown",
   "id": "f7b2812e",
   "metadata": {},
   "source": [
    "# Zadania"
   ]
  },
  {
   "cell_type": "code",
   "execution_count": null,
   "id": "f49845d5",
   "metadata": {},
   "outputs": [],
   "source": []
  }
 ],
 "metadata": {
  "kernelspec": {
   "display_name": "Python 3 (ipykernel)",
   "language": "python",
   "name": "python3"
  },
  "language_info": {
   "codemirror_mode": {
    "name": "ipython",
    "version": 3
   },
   "file_extension": ".py",
   "mimetype": "text/x-python",
   "name": "python",
   "nbconvert_exporter": "python",
   "pygments_lexer": "ipython3",
   "version": "3.9.7"
  }
 },
 "nbformat": 4,
 "nbformat_minor": 5
}
