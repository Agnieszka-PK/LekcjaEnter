{
 "cells": [
  {
   "cell_type": "markdown",
   "id": "d7f2a1fd",
   "metadata": {},
   "source": [
    "# Wyświetlanie tekstów na ekranie w języku Python"
   ]
  },
  {
   "cell_type": "markdown",
   "id": "9da526f9",
   "metadata": {},
   "source": [
    "Funkcja print() języka Python"
   ]
  },
  {
   "cell_type": "markdown",
   "id": "254cac93",
   "metadata": {},
   "source": [
    "# Przykłady"
   ]
  },
  {
   "cell_type": "markdown",
   "id": "b8aca616",
   "metadata": {},
   "source": [
    "Przy pomocy funkcji print() napisz swój ulubiony kolor."
   ]
  },
  {
   "cell_type": "code",
   "execution_count": 2,
   "id": "150ebd05",
   "metadata": {},
   "outputs": [
    {
     "name": "stdout",
     "output_type": "stream",
     "text": [
      "żółty\n"
     ]
    }
   ],
   "source": [
    "print(\"żółty\")"
   ]
  },
  {
   "cell_type": "markdown",
   "id": "7a83bce4",
   "metadata": {},
   "source": [
    "Przy pomocy funkcji print() napisz czy wolisz naukę zdalną, czy stacjonarną."
   ]
  },
  {
   "cell_type": "code",
   "execution_count": 3,
   "id": "3289c41b",
   "metadata": {},
   "outputs": [
    {
     "name": "stdout",
     "output_type": "stream",
     "text": [
      "stacjonarna\n"
     ]
    }
   ],
   "source": [
    "print(\"stacjonarna\")"
   ]
  },
  {
   "cell_type": "markdown",
   "id": "3cbc177e",
   "metadata": {},
   "source": [
    "Przy pomocy funkcji print() zapytaj, która jest godzina."
   ]
  },
  {
   "cell_type": "code",
   "execution_count": 4,
   "id": "1594b7fe",
   "metadata": {},
   "outputs": [
    {
     "name": "stdout",
     "output_type": "stream",
     "text": [
      "Która godzina?\n"
     ]
    }
   ],
   "source": [
    "print(\"Która godzina?\")"
   ]
  },
  {
   "cell_type": "markdown",
   "id": "8f093eb2",
   "metadata": {},
   "source": [
    "Przy pomocy funkcji print() odpowiedz na pytanie o godzinę."
   ]
  },
  {
   "cell_type": "code",
   "execution_count": 6,
   "id": "8295c220",
   "metadata": {},
   "outputs": [
    {
     "name": "stdout",
     "output_type": "stream",
     "text": [
      "Jest 11:30.\n"
     ]
    }
   ],
   "source": [
    "print(\"Jest 11:30.\")"
   ]
  },
  {
   "cell_type": "code",
   "execution_count": null,
   "id": "19b0e037",
   "metadata": {},
   "outputs": [],
   "source": []
  }
 ],
 "metadata": {
  "kernelspec": {
   "display_name": "Python 3 (ipykernel)",
   "language": "python",
   "name": "python3"
  },
  "language_info": {
   "codemirror_mode": {
    "name": "ipython",
    "version": 3
   },
   "file_extension": ".py",
   "mimetype": "text/x-python",
   "name": "python",
   "nbconvert_exporter": "python",
   "pygments_lexer": "ipython3",
   "version": "3.9.7"
  }
 },
 "nbformat": 4,
 "nbformat_minor": 5
}
